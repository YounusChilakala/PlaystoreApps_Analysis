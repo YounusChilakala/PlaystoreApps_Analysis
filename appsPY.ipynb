{
 "cells": [
  {
   "cell_type": "code",
   "execution_count": null,
   "id": "343df6de",
   "metadata": {},
   "outputs": [],
   "source": [
    "import numpy as np\n",
    "import pandas as pd\n",
    "from numpy import nan"
   ]
  },
  {
   "cell_type": "code",
   "execution_count": null,
   "id": "ca3c9124",
   "metadata": {},
   "outputs": [],
   "source": [
    "df=pd.read_csv(r\"C:\\Users\\YOUNUS\\Downloads\\playstoreliveproj Drive FIle\\playstoreliveproj\\playstore_apps.csv\")"
   ]
  },
  {
   "cell_type": "code",
   "execution_count": null,
   "id": "241ece10",
   "metadata": {},
   "outputs": [],
   "source": [
    "df"
   ]
  },
  {
   "cell_type": "code",
   "execution_count": null,
   "id": "08694d3e",
   "metadata": {},
   "outputs": [],
   "source": [
    "df.drop_duplicates(keep=False,inplace=True)"
   ]
  },
  {
   "cell_type": "code",
   "execution_count": null,
   "id": "0f1796ea",
   "metadata": {},
   "outputs": [],
   "source": [
    "df"
   ]
  },
  {
   "cell_type": "code",
   "execution_count": null,
   "id": "2544b660",
   "metadata": {},
   "outputs": [],
   "source": [
    "df.info()"
   ]
  },
  {
   "cell_type": "code",
   "execution_count": null,
   "id": "9976e9c2",
   "metadata": {},
   "outputs": [],
   "source": [
    "print(df['Category'])"
   ]
  },
  {
   "cell_type": "code",
   "execution_count": null,
   "id": "7bdb3067",
   "metadata": {},
   "outputs": [],
   "source": [
    "df[['Category']]"
   ]
  },
  {
   "cell_type": "code",
   "execution_count": null,
   "id": "03902952",
   "metadata": {},
   "outputs": [],
   "source": [
    "print(df['Category'].unique())"
   ]
  },
  {
   "cell_type": "code",
   "execution_count": null,
   "id": "6ce8b624",
   "metadata": {},
   "outputs": [],
   "source": [
    "df[df['Category']=='1.9']"
   ]
  },
  {
   "cell_type": "code",
   "execution_count": null,
   "id": "2d983b93",
   "metadata": {},
   "outputs": [],
   "source": [
    "df.drop(10472,inplace=True)"
   ]
  },
  {
   "cell_type": "code",
   "execution_count": null,
   "id": "fdce318a",
   "metadata": {},
   "outputs": [],
   "source": [
    "df"
   ]
  },
  {
   "cell_type": "code",
   "execution_count": null,
   "id": "8c0cf806",
   "metadata": {},
   "outputs": [],
   "source": [
    "print(df['App'].unique())"
   ]
  },
  {
   "cell_type": "code",
   "execution_count": null,
   "id": "2d446807",
   "metadata": {},
   "outputs": [],
   "source": [
    "df[['App']]"
   ]
  },
  {
   "cell_type": "code",
   "execution_count": null,
   "id": "fe1ba7cc",
   "metadata": {},
   "outputs": [],
   "source": [
    "df['App'].dropna()"
   ]
  },
  {
   "cell_type": "code",
   "execution_count": null,
   "id": "97144928",
   "metadata": {},
   "outputs": [],
   "source": [
    "df.count()"
   ]
  },
  {
   "cell_type": "code",
   "execution_count": null,
   "id": "c90d425d",
   "metadata": {},
   "outputs": [],
   "source": [
    "df['Rating']"
   ]
  },
  {
   "cell_type": "code",
   "execution_count": null,
   "id": "d23ffe3f",
   "metadata": {},
   "outputs": [],
   "source": [
    "df['Rating'].dropna()"
   ]
  },
  {
   "cell_type": "code",
   "execution_count": null,
   "id": "b2b44566",
   "metadata": {},
   "outputs": [],
   "source": [
    "df.dropna(axis=0,inplace=True)"
   ]
  },
  {
   "cell_type": "code",
   "execution_count": null,
   "id": "ccaf75c7",
   "metadata": {},
   "outputs": [],
   "source": [
    "df"
   ]
  },
  {
   "cell_type": "code",
   "execution_count": null,
   "id": "906a2326",
   "metadata": {},
   "outputs": [],
   "source": [
    "df['Rating']"
   ]
  },
  {
   "cell_type": "code",
   "execution_count": null,
   "id": "43e4e278",
   "metadata": {},
   "outputs": [],
   "source": [
    "df.to_csv(r\"C:\\Users\\YOUNUS\\Desktop\\pp\\Book1.csv\")"
   ]
  }
 ],
 "metadata": {
  "kernelspec": {
   "display_name": "Python 3 (ipykernel)",
   "language": "python",
   "name": "python3"
  },
  "language_info": {
   "codemirror_mode": {
    "name": "ipython",
    "version": 3
   },
   "file_extension": ".py",
   "mimetype": "text/x-python",
   "name": "python",
   "nbconvert_exporter": "python",
   "pygments_lexer": "ipython3",
   "version": "3.9.12"
  }
 },
 "nbformat": 4,
 "nbformat_minor": 5
}
